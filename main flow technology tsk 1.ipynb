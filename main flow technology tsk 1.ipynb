{
 "cells": [
  {
   "cell_type": "code",
   "execution_count": 1,
   "id": "751bb3bb-311b-4eec-9937-03d0803891cb",
   "metadata": {},
   "outputs": [
    {
     "name": "stdout",
     "output_type": "stream",
     "text": [
      "Original List: [1, 2, 3, 4, 5]\n"
     ]
    }
   ],
   "source": [
    "# Create a list\n",
    "my_list = [1, 2, 3, 4, 5]\n",
    "\n",
    "# Display original list\n",
    "print(\"Original List:\", my_list)"
   ]
  },
  {
   "cell_type": "code",
   "execution_count": 2,
   "id": "9cffe9dc-7459-46d2-838d-ef6022d0c9d7",
   "metadata": {},
   "outputs": [
    {
     "name": "stdout",
     "output_type": "stream",
     "text": [
      "List after adding elements: [1, 2, 3, 4, 5, 6]\n"
     ]
    }
   ],
   "source": [
    "# Adding elements\n",
    "my_list.append(6)\n",
    "\n",
    "# Display after adding elements\n",
    "print(\"List after adding elements:\", my_list)"
   ]
  },
  {
   "cell_type": "code",
   "execution_count": 3,
   "id": "8ed9dad0-bca6-4e14-95cf-b31eb2499efb",
   "metadata": {},
   "outputs": [
    {
     "name": "stdout",
     "output_type": "stream",
     "text": [
      "List after removing elements: [1, 2, 4, 5, 6]\n"
     ]
    }
   ],
   "source": [
    "# Removing elements\n",
    "my_list.remove(3)\n",
    "\n",
    "# Display after removing elements\n",
    "print(\"List after removing elements:\", my_list)"
   ]
  },
  {
   "cell_type": "code",
   "execution_count": 4,
   "id": "065f916c-69b4-4879-b18e-6be91d7682ac",
   "metadata": {},
   "outputs": [
    {
     "name": "stdout",
     "output_type": "stream",
     "text": [
      "List after modifying elements: [1, 2, 10, 5, 6]\n"
     ]
    }
   ],
   "source": [
    "# Modifying elements\n",
    "my_list[2] = 10\n",
    "\n",
    "# Display after modifying elements\n",
    "print(\"List after modifying elements:\", my_list)"
   ]
  },
  {
   "cell_type": "code",
   "execution_count": 5,
   "id": "67c00033-7141-45b7-ba1d-1695db90352d",
   "metadata": {},
   "outputs": [
    {
     "name": "stdout",
     "output_type": "stream",
     "text": [
      "\n",
      "Original Dictionary: {'a': 1, 'b': 2, 'c': 3}\n"
     ]
    }
   ],
   "source": [
    "# Create a dictionary\n",
    "my_dict = {'a': 1, 'b': 2, 'c': 3}\n",
    "\n",
    "# Display original dictionary\n",
    "print(\"\\nOriginal Dictionary:\", my_dict)"
   ]
  },
  {
   "cell_type": "code",
   "execution_count": 6,
   "id": "7b301801-3ec1-48f7-bd5e-388eb4fb9f8a",
   "metadata": {},
   "outputs": [
    {
     "name": "stdout",
     "output_type": "stream",
     "text": [
      "Dictionary after adding elements: {'a': 1, 'b': 2, 'c': 3, 'd': 4}\n"
     ]
    }
   ],
   "source": [
    "# Adding elements\n",
    "my_dict['d'] = 4\n",
    "\n",
    "# Display after adding elements\n",
    "print(\"Dictionary after adding elements:\", my_dict)"
   ]
  },
  {
   "cell_type": "code",
   "execution_count": 7,
   "id": "e5e4a00d-784b-44c5-b12f-563d34c20a5e",
   "metadata": {},
   "outputs": [
    {
     "name": "stdout",
     "output_type": "stream",
     "text": [
      "Dictionary after removing elements: {'a': 1, 'c': 3, 'd': 4}\n"
     ]
    }
   ],
   "source": [
    "my_dict.pop('b')\n",
    "\n",
    "# Display after removing elements\n",
    "print(\"Dictionary after removing elements:\", my_dict)"
   ]
  },
  {
   "cell_type": "code",
   "execution_count": 8,
   "id": "ba3614a5-e9e3-4a5e-b0b4-46b40543ae1e",
   "metadata": {},
   "outputs": [
    {
     "name": "stdout",
     "output_type": "stream",
     "text": [
      "Dictionary after modifying elements: {'a': 'apple', 'c': 3, 'd': 4}\n"
     ]
    }
   ],
   "source": [
    "# Modifying elements\n",
    "my_dict['a'] = 'apple'\n",
    "\n",
    "# Display after modifying elements\n",
    "print(\"Dictionary after modifying elements:\", my_dict)"
   ]
  },
  {
   "cell_type": "code",
   "execution_count": 9,
   "id": "970f1296-a155-4dfa-b01d-87fae8b85057",
   "metadata": {},
   "outputs": [
    {
     "name": "stdout",
     "output_type": "stream",
     "text": [
      "\n",
      "Original Set: {1, 2, 3, 4, 5}\n"
     ]
    }
   ],
   "source": [
    "# Create a set\n",
    "my_set = {1, 2, 3, 4, 5}\n",
    "\n",
    "# Display original set\n",
    "print(\"\\nOriginal Set:\", my_set)"
   ]
  },
  {
   "cell_type": "code",
   "execution_count": 10,
   "id": "2661cde7-c519-4a89-875f-799631a4213c",
   "metadata": {},
   "outputs": [
    {
     "name": "stdout",
     "output_type": "stream",
     "text": [
      "Set after adding elements: {1, 2, 3, 4, 5, 6}\n"
     ]
    }
   ],
   "source": [
    "# Adding elements\n",
    "my_set.add(6)\n",
    "\n",
    "# Display after adding elements\n",
    "print(\"Set after adding elements:\", my_set)\n"
   ]
  },
  {
   "cell_type": "code",
   "execution_count": 11,
   "id": "3a0e5a01-e739-4930-bfa4-e7a659553d62",
   "metadata": {},
   "outputs": [
    {
     "name": "stdout",
     "output_type": "stream",
     "text": [
      "Set after removing elements: {1, 2, 3, 5, 6}\n"
     ]
    }
   ],
   "source": [
    "# Removing elements\n",
    "my_set.remove(4)\n",
    "\n",
    "# Display after removing elements\n",
    "print(\"Set after removing elements:\", my_set)"
   ]
  },
  {
   "cell_type": "code",
   "execution_count": null,
   "id": "66dbea5b-45b6-406a-a4b4-937b4de6aa3e",
   "metadata": {},
   "outputs": [],
   "source": []
  }
 ],
 "metadata": {
  "kernelspec": {
   "display_name": "Python 3 (ipykernel)",
   "language": "python",
   "name": "python3"
  },
  "language_info": {
   "codemirror_mode": {
    "name": "ipython",
    "version": 3
   },
   "file_extension": ".py",
   "mimetype": "text/x-python",
   "name": "python",
   "nbconvert_exporter": "python",
   "pygments_lexer": "ipython3",
   "version": "3.12.1"
  }
 },
 "nbformat": 4,
 "nbformat_minor": 5
}
