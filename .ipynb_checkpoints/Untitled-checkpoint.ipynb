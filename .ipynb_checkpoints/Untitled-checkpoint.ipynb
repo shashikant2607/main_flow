{
 "cells": [
  {
   "cell_type": "code",
   "execution_count": 3,
   "id": "fe1e4e17-6dc4-4f6b-8d84-ff69a7173e6f",
   "metadata": {},
   "outputs": [
    {
     "ename": "SyntaxError",
     "evalue": "(unicode error) 'unicodeescape' codec can't decode bytes in position 2-3: truncated \\UXXXXXXXX escape (3648369294.py, line 2)",
     "output_type": "error",
     "traceback": [
      "\u001b[1;36m  Cell \u001b[1;32mIn[3], line 2\u001b[1;36m\u001b[0m\n\u001b[1;33m    dataFrtame=pd.csv(\"C:\\Users\\Shashikant\\Downloads\\customers-100.csv\")\u001b[0m\n\u001b[1;37m                      ^\u001b[0m\n\u001b[1;31mSyntaxError\u001b[0m\u001b[1;31m:\u001b[0m (unicode error) 'unicodeescape' codec can't decode bytes in position 2-3: truncated \\UXXXXXXXX escape\n"
     ]
    }
   ],
   "source": [
    "import padas as pd\n",
    "dataFrtame=pd.Read_csv(\"C:\\Users\\Shashikant\\Downloads\\customers-100.csv\")\n",
    "print(\"our dataFrame.......\",dataFrame)"
   ]
  },
  {
   "cell_type": "code",
   "execution_count": null,
   "id": "68959e29-c07a-444f-8152-0d3fa07aa12b",
   "metadata": {},
   "outputs": [],
   "source": []
  }
 ],
 "metadata": {
  "kernelspec": {
   "display_name": "Python 3 (ipykernel)",
   "language": "python",
   "name": "python3"
  },
  "language_info": {
   "codemirror_mode": {
    "name": "ipython",
    "version": 3
   },
   "file_extension": ".py",
   "mimetype": "text/x-python",
   "name": "python",
   "nbconvert_exporter": "python",
   "pygments_lexer": "ipython3",
   "version": "3.12.4"
  }
 },
 "nbformat": 4,
 "nbformat_minor": 5
}
